{
 "cells": [
  {
   "cell_type": "code",
   "execution_count": 1,
   "metadata": {},
   "outputs": [],
   "source": [
    "import pandas as pd"
   ]
  },
  {
   "cell_type": "markdown",
   "metadata": {},
   "source": [
    "<h1>UsersRecommend</h1>"
   ]
  },
  {
   "cell_type": "markdown",
   "metadata": {},
   "source": [
    "def UsersRecommend( año : int ): Devuelve el top 3 de juegos MÁS recomendados por usuarios para el año dado. (reviews.recommend = True y comentarios positivos/neutrales)\n",
    "Ejemplo de retorno: [{\"Puesto 1\" : X}, {\"Puesto 2\" : Y},{\"Puesto 3\" : Z}]"
   ]
  },
  {
   "cell_type": "code",
   "execution_count": 2,
   "metadata": {},
   "outputs": [],
   "source": [
    "# Cargamos los archivos CSV a utilizar:\n",
    "games_df = pd.read_csv(r\"..\\Archivos Producidos\\games.csv\")\n",
    "reviews_df = pd.read_csv(r\"..\\Archivos Producidos\\reviews.csv\")\n",
    "\n",
    "# Convertimos algunos tipos de columna que no se cargaron correctamente:\n",
    "reviews_df[\"item_id\"] = reviews_df[\"item_id\"].astype(\"Int64\")\n",
    "reviews_df[\"year\"] = reviews_df[\"year\"].astype(\"Int64\")"
   ]
  },
  {
   "cell_type": "code",
   "execution_count": 3,
   "metadata": {},
   "outputs": [
    {
     "data": {
      "text/plain": [
       "app_name                     object\n",
       "release_year                  int64\n",
       "item_id                       int64\n",
       "developer                    object\n",
       "Action                        int64\n",
       "Adventure                     int64\n",
       "Animation &amp; Modeling      int64\n",
       "Audio Production              int64\n",
       "Casual                        int64\n",
       "Design &amp; Illustration     int64\n",
       "Early Access                  int64\n",
       "Education                     int64\n",
       "Free to Play                  int64\n",
       "Indie                         int64\n",
       "Massively Multiplayer         int64\n",
       "Photo Editing                 int64\n",
       "RPG                           int64\n",
       "Racing                        int64\n",
       "Simulation                    int64\n",
       "Software Training             int64\n",
       "Sports                        int64\n",
       "Strategy                      int64\n",
       "Utilities                     int64\n",
       "Video Production              int64\n",
       "Web Publishing                int64\n",
       "dtype: object"
      ]
     },
     "execution_count": 3,
     "metadata": {},
     "output_type": "execute_result"
    }
   ],
   "source": [
    "games_df.dtypes"
   ]
  },
  {
   "cell_type": "code",
   "execution_count": 4,
   "metadata": {},
   "outputs": [
    {
     "data": {
      "text/plain": [
       "user_id               object\n",
       "item_id                Int64\n",
       "recommend               bool\n",
       "review                object\n",
       "year                   Int64\n",
       "sentiment_analysis     int64\n",
       "dtype: object"
      ]
     },
     "execution_count": 4,
     "metadata": {},
     "output_type": "execute_result"
    }
   ],
   "source": [
    "reviews_df.dtypes"
   ]
  },
  {
   "cell_type": "markdown",
   "metadata": {},
   "source": [
    "Ya cargados los archivos, comenzamos con las transformaciones:"
   ]
  },
  {
   "cell_type": "code",
   "execution_count": 5,
   "metadata": {},
   "outputs": [
    {
     "data": {
      "text/html": [
       "<div>\n",
       "<style scoped>\n",
       "    .dataframe tbody tr th:only-of-type {\n",
       "        vertical-align: middle;\n",
       "    }\n",
       "\n",
       "    .dataframe tbody tr th {\n",
       "        vertical-align: top;\n",
       "    }\n",
       "\n",
       "    .dataframe thead th {\n",
       "        text-align: right;\n",
       "    }\n",
       "</style>\n",
       "<table border=\"1\" class=\"dataframe\">\n",
       "  <thead>\n",
       "    <tr style=\"text-align: right;\">\n",
       "      <th></th>\n",
       "      <th>app_name</th>\n",
       "      <th>item_id</th>\n",
       "      <th>recommend</th>\n",
       "      <th>year</th>\n",
       "      <th>sentiment_analysis</th>\n",
       "    </tr>\n",
       "  </thead>\n",
       "  <tbody>\n",
       "    <tr>\n",
       "      <th>0</th>\n",
       "      <td>Carmageddon max pack</td>\n",
       "      <td>282010</td>\n",
       "      <td>True</td>\n",
       "      <td>&lt;NA&gt;</td>\n",
       "      <td>1</td>\n",
       "    </tr>\n",
       "    <tr>\n",
       "      <th>1</th>\n",
       "      <td>Half-life</td>\n",
       "      <td>70</td>\n",
       "      <td>True</td>\n",
       "      <td>2015</td>\n",
       "      <td>1</td>\n",
       "    </tr>\n",
       "    <tr>\n",
       "      <th>2</th>\n",
       "      <td>Half-life</td>\n",
       "      <td>70</td>\n",
       "      <td>True</td>\n",
       "      <td>2011</td>\n",
       "      <td>1</td>\n",
       "    </tr>\n",
       "    <tr>\n",
       "      <th>3</th>\n",
       "      <td>Half-life</td>\n",
       "      <td>70</td>\n",
       "      <td>True</td>\n",
       "      <td>2014</td>\n",
       "      <td>1</td>\n",
       "    </tr>\n",
       "    <tr>\n",
       "      <th>4</th>\n",
       "      <td>Half-life</td>\n",
       "      <td>70</td>\n",
       "      <td>True</td>\n",
       "      <td>2013</td>\n",
       "      <td>2</td>\n",
       "    </tr>\n",
       "  </tbody>\n",
       "</table>\n",
       "</div>"
      ],
      "text/plain": [
       "               app_name  item_id  recommend  year  sentiment_analysis\n",
       "0  Carmageddon max pack   282010       True  <NA>                   1\n",
       "1             Half-life       70       True  2015                   1\n",
       "2             Half-life       70       True  2011                   1\n",
       "3             Half-life       70       True  2014                   1\n",
       "4             Half-life       70       True  2013                   2"
      ]
     },
     "execution_count": 5,
     "metadata": {},
     "output_type": "execute_result"
    }
   ],
   "source": [
    "# Unimos las columnas que nos serán de utilidad:\n",
    "df_r_g = pd.merge(games_df[[\"app_name\", \"item_id\"]], reviews_df[[\"item_id\", \"recommend\", \"year\", \"sentiment_analysis\"]], on=\"item_id\")\n",
    "df_r_g.head()"
   ]
  },
  {
   "cell_type": "code",
   "execution_count": 6,
   "metadata": {},
   "outputs": [
    {
     "name": "stdout",
     "output_type": "stream",
     "text": [
      "48832\n"
     ]
    }
   ],
   "source": [
    "print(len(df_r_g)) # Chequeamos la cantidad de registros"
   ]
  },
  {
   "cell_type": "code",
   "execution_count": 7,
   "metadata": {},
   "outputs": [],
   "source": [
    "# Eliminamos registros donde \"recommend\" sea False:\n",
    "df_r_g = df_r_g[df_r_g[\"recommend\"]]\n",
    "\n",
    "# Eliminamos registros donde \"sentiment_analysis\" sea 0:\n",
    "df_r_g = df_r_g[df_r_g[\"sentiment_analysis\"] != 0]\n",
    "\n",
    "# Eliminamos registros donde \"year\" sea nulo:\n",
    "df_r_g = df_r_g[df_r_g[\"year\"] != None]"
   ]
  },
  {
   "cell_type": "code",
   "execution_count": 8,
   "metadata": {},
   "outputs": [
    {
     "name": "stdout",
     "output_type": "stream",
     "text": [
      "32812\n"
     ]
    }
   ],
   "source": [
    "print(len(df_r_g)) # Chequeamos la cantidad de registros"
   ]
  },
  {
   "cell_type": "code",
   "execution_count": 9,
   "metadata": {},
   "outputs": [
    {
     "data": {
      "text/html": [
       "<div>\n",
       "<style scoped>\n",
       "    .dataframe tbody tr th:only-of-type {\n",
       "        vertical-align: middle;\n",
       "    }\n",
       "\n",
       "    .dataframe tbody tr th {\n",
       "        vertical-align: top;\n",
       "    }\n",
       "\n",
       "    .dataframe thead th {\n",
       "        text-align: right;\n",
       "    }\n",
       "</style>\n",
       "<table border=\"1\" class=\"dataframe\">\n",
       "  <thead>\n",
       "    <tr style=\"text-align: right;\">\n",
       "      <th></th>\n",
       "      <th>app_name</th>\n",
       "      <th>year</th>\n",
       "    </tr>\n",
       "  </thead>\n",
       "  <tbody>\n",
       "    <tr>\n",
       "      <th>1</th>\n",
       "      <td>Half-life</td>\n",
       "      <td>2015</td>\n",
       "    </tr>\n",
       "    <tr>\n",
       "      <th>2</th>\n",
       "      <td>Half-life</td>\n",
       "      <td>2011</td>\n",
       "    </tr>\n",
       "    <tr>\n",
       "      <th>3</th>\n",
       "      <td>Half-life</td>\n",
       "      <td>2014</td>\n",
       "    </tr>\n",
       "    <tr>\n",
       "      <th>4</th>\n",
       "      <td>Half-life</td>\n",
       "      <td>2013</td>\n",
       "    </tr>\n",
       "    <tr>\n",
       "      <th>5</th>\n",
       "      <td>Half-life</td>\n",
       "      <td>2013</td>\n",
       "    </tr>\n",
       "  </tbody>\n",
       "</table>\n",
       "</div>"
      ],
      "text/plain": [
       "    app_name  year\n",
       "1  Half-life  2015\n",
       "2  Half-life  2011\n",
       "3  Half-life  2014\n",
       "4  Half-life  2013\n",
       "5  Half-life  2013"
      ]
     },
     "execution_count": 9,
     "metadata": {},
     "output_type": "execute_result"
    }
   ],
   "source": [
    "# Eliminamos la columnas que ya no utilizaremos:\n",
    "df_r_g.drop(columns=[\"item_id\", \"recommend\", \"sentiment_analysis\"], inplace=True)\n",
    "df_r_g.head()"
   ]
  },
  {
   "cell_type": "code",
   "execution_count": 10,
   "metadata": {},
   "outputs": [
    {
     "data": {
      "text/html": [
       "<div>\n",
       "<style scoped>\n",
       "    .dataframe tbody tr th:only-of-type {\n",
       "        vertical-align: middle;\n",
       "    }\n",
       "\n",
       "    .dataframe tbody tr th {\n",
       "        vertical-align: top;\n",
       "    }\n",
       "\n",
       "    .dataframe thead th {\n",
       "        text-align: right;\n",
       "    }\n",
       "</style>\n",
       "<table border=\"1\" class=\"dataframe\">\n",
       "  <thead>\n",
       "    <tr style=\"text-align: right;\">\n",
       "      <th></th>\n",
       "      <th>app_name</th>\n",
       "      <th>year</th>\n",
       "      <th>recommendation</th>\n",
       "    </tr>\n",
       "  </thead>\n",
       "  <tbody>\n",
       "    <tr>\n",
       "      <th>2867</th>\n",
       "      <td>Team fortress 2</td>\n",
       "      <td>2014</td>\n",
       "      <td>1430</td>\n",
       "    </tr>\n",
       "    <tr>\n",
       "      <th>626</th>\n",
       "      <td>Counter-strike: global offensive</td>\n",
       "      <td>2015</td>\n",
       "      <td>1352</td>\n",
       "    </tr>\n",
       "    <tr>\n",
       "      <th>625</th>\n",
       "      <td>Counter-strike: global offensive</td>\n",
       "      <td>2014</td>\n",
       "      <td>955</td>\n",
       "    </tr>\n",
       "    <tr>\n",
       "      <th>2866</th>\n",
       "      <td>Team fortress 2</td>\n",
       "      <td>2013</td>\n",
       "      <td>738</td>\n",
       "    </tr>\n",
       "    <tr>\n",
       "      <th>1244</th>\n",
       "      <td>Garry's mod</td>\n",
       "      <td>2014</td>\n",
       "      <td>680</td>\n",
       "    </tr>\n",
       "  </tbody>\n",
       "</table>\n",
       "</div>"
      ],
      "text/plain": [
       "                              app_name  year  recommendation\n",
       "2867                   Team fortress 2  2014            1430\n",
       "626   Counter-strike: global offensive  2015            1352\n",
       "625   Counter-strike: global offensive  2014             955\n",
       "2866                   Team fortress 2  2013             738\n",
       "1244                       Garry's mod  2014             680"
      ]
     },
     "execution_count": 10,
     "metadata": {},
     "output_type": "execute_result"
    }
   ],
   "source": [
    "# Agregamos una columna de recomendaciones:\n",
    "df_r_g[\"recommendation\"] = 1\n",
    "\n",
    "# Agrupamos por \"app_name\" y \"year\" y contamos las recomendaciones:\n",
    "df_usersrecommend = df_r_g.groupby([\"app_name\", \"year\"]).agg({\"recommendation\": \"count\"}).reset_index()\n",
    "\n",
    "# Lo ordenamos en cantidad de recomendaciones descendiente:\n",
    "df_usersrecommend = df_usersrecommend.sort_values(by=\"recommendation\", ascending=False)\n",
    "\n",
    "df_usersrecommend.head()"
   ]
  },
  {
   "cell_type": "markdown",
   "metadata": {},
   "source": [
    "Desarrollamos la función:"
   ]
  },
  {
   "cell_type": "code",
   "execution_count": 11,
   "metadata": {},
   "outputs": [],
   "source": [
    "# Creamos la función UsersRecommend:\n",
    "def UsersRecommend(año):\n",
    "\n",
    "    # Corroboramos que el año introducido sea un número:\n",
    "    if isinstance(año, int):\n",
    "        \n",
    "        # En caso de que el año no se encuentre en el DataFrame:\n",
    "        if año not in df_usersrecommend[\"year\"].tolist(): return f\"{año} no se encuentra entre los años disponibles.\"\n",
    "\n",
    "        # Caso contrario (ideal):\n",
    "        else:\n",
    "\n",
    "            # Filtramos por año:\n",
    "            df_año = df_usersrecommend[df_usersrecommend[\"year\"] == año].head(3)\n",
    "\n",
    "            # Creamos la variable que utilizaremos como respuesta final:\n",
    "            respuesta = [{\"Puesto 1\": None}, {\"Puesto 2\": None}, {\"Puesto 3\": None}]\n",
    "\n",
    "            # Rellenamos esa variable:\n",
    "            respuesta[0][\"Puesto 1\"] = df_año.iloc[0][\"app_name\"]\n",
    "            respuesta[1][\"Puesto 2\"] = df_año.iloc[1][\"app_name\"]\n",
    "            respuesta[2][\"Puesto 3\"] = df_año.iloc[2][\"app_name\"]\n",
    "\n",
    "            # Devolvemos la respuesta final:\n",
    "            return respuesta\n",
    "\n",
    "\n",
    "    # En caso de que el año introducido no sea un número:\n",
    "    else: return f\"'{año}' no es un año válido.\""
   ]
  },
  {
   "cell_type": "code",
   "execution_count": 12,
   "metadata": {},
   "outputs": [
    {
     "name": "stdout",
     "output_type": "stream",
     "text": [
      "'Prueba' no es un año válido.\n",
      "[{'Puesto 1': 'Counter-strike: global offensive'}, {'Puesto 2': 'Team fortress 2'}, {'Puesto 3': \"Garry's mod\"}]\n",
      "2018 no se encuentra entre los años disponibles.\n",
      "2018 no se encuentra entre los años disponibles.\n",
      "[{'Puesto 1': 'Team fortress 2'}, {'Puesto 2': 'Killing floor'}, {'Puesto 3': 'Alien swarm'}]\n",
      "[{'Puesto 1': 'Team fortress 2'}, {'Puesto 2': \"Garry's mod\"}, {'Puesto 3': 'Left 4 dead 2'}]\n"
     ]
    }
   ],
   "source": [
    "# Probamos la función\n",
    "print(UsersRecommend(\"Prueba\"))\n",
    "print(UsersRecommend( 2015))\n",
    "print(UsersRecommend(  2018 ))\n",
    "print(UsersRecommend(2018))\n",
    "print(UsersRecommend(2010))\n",
    "print(UsersRecommend(2013 ))"
   ]
  },
  {
   "cell_type": "markdown",
   "metadata": {},
   "source": [
    "Guardamos el DataFrame utilizado:"
   ]
  },
  {
   "cell_type": "code",
   "execution_count": 13,
   "metadata": {},
   "outputs": [],
   "source": [
    "# Guardamos el dataframe \"df_usersrecommend\":\n",
    "df_usersrecommend.to_csv(r\"..\\Archivos Producidos\\Data para Endpoints\\df_usersrecommend.csv\", index=False)"
   ]
  }
 ],
 "metadata": {
  "kernelspec": {
   "display_name": "Python 3",
   "language": "python",
   "name": "python3"
  },
  "language_info": {
   "codemirror_mode": {
    "name": "ipython",
    "version": 3
   },
   "file_extension": ".py",
   "mimetype": "text/x-python",
   "name": "python",
   "nbconvert_exporter": "python",
   "pygments_lexer": "ipython3",
   "version": "3.11.4"
  }
 },
 "nbformat": 4,
 "nbformat_minor": 2
}
