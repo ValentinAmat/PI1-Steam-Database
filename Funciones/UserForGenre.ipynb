{
 "cells": [
  {
   "cell_type": "code",
   "execution_count": 1,
   "metadata": {},
   "outputs": [],
   "source": [
    "import pandas as pd"
   ]
  },
  {
   "cell_type": "markdown",
   "metadata": {},
   "source": [
    "<h1>UserForGenre</h1>"
   ]
  },
  {
   "cell_type": "markdown",
   "metadata": {},
   "source": [
    "def UserForGenre( genero : str ): Debe devolver el usuario que acumula más horas jugadas para el género dado y una lista de la acumulación de horas jugadas por año.\n",
    "Ejemplo de retorno: {\"Usuario con más horas jugadas para Género X\" : us213ndjss09sdf, \"Horas jugadas\":[{Año: 2013, Horas: 203}, {Año: 2012, Horas: 100}, {Año: 2011, Horas: 23}]}"
   ]
  },
  {
   "cell_type": "code",
   "execution_count": 2,
   "metadata": {},
   "outputs": [],
   "source": [
    "# Cargamos los archivos CSV a utilizar:\n",
    "games_df = pd.read_csv(r\"..\\Archivos Producidos\\games.csv\")\n",
    "reviews_df = pd.read_csv(r\"..\\Archivos Producidos\\reviews.csv\")\n",
    "users_df = pd.read_csv(r\"..\\Archivos Producidos\\users.csv\")\n",
    "\n",
    "# Convertimos algunos tipos de columna que no se cargaron correctamente:\n",
    "reviews_df[\"item_id\"] = reviews_df[\"item_id\"].astype(\"Int64\")\n",
    "reviews_df[\"year\"] = reviews_df[\"year\"].astype(\"Int64\")"
   ]
  },
  {
   "cell_type": "code",
   "execution_count": 3,
   "metadata": {},
   "outputs": [
    {
     "data": {
      "text/plain": [
       "app_name                     object\n",
       "release_year                  int64\n",
       "item_id                       int64\n",
       "developer                    object\n",
       "Action                        int64\n",
       "Adventure                     int64\n",
       "Animation &amp; Modeling      int64\n",
       "Audio Production              int64\n",
       "Casual                        int64\n",
       "Design &amp; Illustration     int64\n",
       "Early Access                  int64\n",
       "Education                     int64\n",
       "Free to Play                  int64\n",
       "Indie                         int64\n",
       "Massively Multiplayer         int64\n",
       "Photo Editing                 int64\n",
       "RPG                           int64\n",
       "Racing                        int64\n",
       "Simulation                    int64\n",
       "Software Training             int64\n",
       "Sports                        int64\n",
       "Strategy                      int64\n",
       "Utilities                     int64\n",
       "Video Production              int64\n",
       "Web Publishing                int64\n",
       "dtype: object"
      ]
     },
     "execution_count": 3,
     "metadata": {},
     "output_type": "execute_result"
    }
   ],
   "source": [
    "games_df.dtypes"
   ]
  },
  {
   "cell_type": "code",
   "execution_count": 4,
   "metadata": {},
   "outputs": [
    {
     "data": {
      "text/plain": [
       "user_id               object\n",
       "item_id                Int64\n",
       "recommend               bool\n",
       "review                object\n",
       "year                   Int64\n",
       "sentiment_analysis     int64\n",
       "dtype: object"
      ]
     },
     "execution_count": 4,
     "metadata": {},
     "output_type": "execute_result"
    }
   ],
   "source": [
    "reviews_df.dtypes"
   ]
  },
  {
   "cell_type": "code",
   "execution_count": 5,
   "metadata": {},
   "outputs": [
    {
     "data": {
      "text/plain": [
       "user_id     object\n",
       "playtime     int64\n",
       "item_id      int64\n",
       "dtype: object"
      ]
     },
     "execution_count": 5,
     "metadata": {},
     "output_type": "execute_result"
    }
   ],
   "source": [
    "users_df.dtypes"
   ]
  },
  {
   "cell_type": "markdown",
   "metadata": {},
   "source": [
    "Ya cargados los archivos, comenzamos con las transformaciones:"
   ]
  },
  {
   "cell_type": "code",
   "execution_count": 6,
   "metadata": {},
   "outputs": [
    {
     "data": {
      "text/html": [
       "<div>\n",
       "<style scoped>\n",
       "    .dataframe tbody tr th:only-of-type {\n",
       "        vertical-align: middle;\n",
       "    }\n",
       "\n",
       "    .dataframe tbody tr th {\n",
       "        vertical-align: top;\n",
       "    }\n",
       "\n",
       "    .dataframe thead th {\n",
       "        text-align: right;\n",
       "    }\n",
       "</style>\n",
       "<table border=\"1\" class=\"dataframe\">\n",
       "  <thead>\n",
       "    <tr style=\"text-align: right;\">\n",
       "      <th></th>\n",
       "      <th>user_id</th>\n",
       "      <th>item_id</th>\n",
       "      <th>playtime</th>\n",
       "      <th>year</th>\n",
       "    </tr>\n",
       "  </thead>\n",
       "  <tbody>\n",
       "    <tr>\n",
       "      <th>0</th>\n",
       "      <td>76561197970982479</td>\n",
       "      <td>10</td>\n",
       "      <td>6</td>\n",
       "      <td>2011</td>\n",
       "    </tr>\n",
       "    <tr>\n",
       "      <th>1</th>\n",
       "      <td>76561197970982479</td>\n",
       "      <td>10</td>\n",
       "      <td>6</td>\n",
       "      <td>2011</td>\n",
       "    </tr>\n",
       "    <tr>\n",
       "      <th>2</th>\n",
       "      <td>76561198089393905</td>\n",
       "      <td>4000</td>\n",
       "      <td>47269</td>\n",
       "      <td>2014</td>\n",
       "    </tr>\n",
       "    <tr>\n",
       "      <th>3</th>\n",
       "      <td>76561198156664158</td>\n",
       "      <td>4000</td>\n",
       "      <td>269</td>\n",
       "      <td>&lt;NA&gt;</td>\n",
       "    </tr>\n",
       "    <tr>\n",
       "      <th>4</th>\n",
       "      <td>76561198156664158</td>\n",
       "      <td>4000</td>\n",
       "      <td>269</td>\n",
       "      <td>&lt;NA&gt;</td>\n",
       "    </tr>\n",
       "  </tbody>\n",
       "</table>\n",
       "</div>"
      ],
      "text/plain": [
       "             user_id  item_id  playtime  year\n",
       "0  76561197970982479       10         6  2011\n",
       "1  76561197970982479       10         6  2011\n",
       "2  76561198089393905     4000     47269  2014\n",
       "3  76561198156664158     4000       269  <NA>\n",
       "4  76561198156664158     4000       269  <NA>"
      ]
     },
     "execution_count": 6,
     "metadata": {},
     "output_type": "execute_result"
    }
   ],
   "source": [
    "# Unimos las columnas que nos serán de utilidad:\n",
    "df_u_r = pd.merge(users_df[[\"user_id\", \"item_id\", \"playtime\"]], reviews_df[[\"user_id\", \"year\"]], on=\"user_id\")\n",
    "df_u_r.head()"
   ]
  },
  {
   "cell_type": "code",
   "execution_count": 7,
   "metadata": {},
   "outputs": [
    {
     "data": {
      "text/html": [
       "<div>\n",
       "<style scoped>\n",
       "    .dataframe tbody tr th:only-of-type {\n",
       "        vertical-align: middle;\n",
       "    }\n",
       "\n",
       "    .dataframe tbody tr th {\n",
       "        vertical-align: top;\n",
       "    }\n",
       "\n",
       "    .dataframe thead th {\n",
       "        text-align: right;\n",
       "    }\n",
       "</style>\n",
       "<table border=\"1\" class=\"dataframe\">\n",
       "  <thead>\n",
       "    <tr style=\"text-align: right;\">\n",
       "      <th></th>\n",
       "      <th>user_id</th>\n",
       "      <th>item_id</th>\n",
       "      <th>year</th>\n",
       "      <th>playtime</th>\n",
       "    </tr>\n",
       "  </thead>\n",
       "  <tbody>\n",
       "    <tr>\n",
       "      <th>0</th>\n",
       "      <td>--000--</td>\n",
       "      <td>4000</td>\n",
       "      <td>2014</td>\n",
       "      <td>925</td>\n",
       "    </tr>\n",
       "    <tr>\n",
       "      <th>1</th>\n",
       "      <td>--ace--</td>\n",
       "      <td>4000</td>\n",
       "      <td>2014</td>\n",
       "      <td>160</td>\n",
       "    </tr>\n",
       "    <tr>\n",
       "      <th>2</th>\n",
       "      <td>--ionex--</td>\n",
       "      <td>10180</td>\n",
       "      <td>2015</td>\n",
       "      <td>105</td>\n",
       "    </tr>\n",
       "    <tr>\n",
       "      <th>3</th>\n",
       "      <td>-kainey9777</td>\n",
       "      <td>339610</td>\n",
       "      <td>2015</td>\n",
       "      <td>0</td>\n",
       "    </tr>\n",
       "    <tr>\n",
       "      <th>4</th>\n",
       "      <td>0-3-0</td>\n",
       "      <td>1610</td>\n",
       "      <td>2014</td>\n",
       "      <td>26</td>\n",
       "    </tr>\n",
       "  </tbody>\n",
       "</table>\n",
       "</div>"
      ],
      "text/plain": [
       "       user_id  item_id  year  playtime\n",
       "0      --000--     4000  2014       925\n",
       "1      --ace--     4000  2014       160\n",
       "2    --ionex--    10180  2015       105\n",
       "3  -kainey9777   339610  2015         0\n",
       "4        0-3-0     1610  2014        26"
      ]
     },
     "execution_count": 7,
     "metadata": {},
     "output_type": "execute_result"
    }
   ],
   "source": [
    "# Agrupamos por usuario y año, y sumamos las horas jugadas:\n",
    "df_sum_usertime = df_u_r.groupby([\"user_id\", \"item_id\", \"year\"])[\"playtime\"].sum().reset_index()\n",
    "df_sum_usertime.head()"
   ]
  },
  {
   "cell_type": "code",
   "execution_count": 8,
   "metadata": {},
   "outputs": [
    {
     "data": {
      "text/html": [
       "<div>\n",
       "<style scoped>\n",
       "    .dataframe tbody tr th:only-of-type {\n",
       "        vertical-align: middle;\n",
       "    }\n",
       "\n",
       "    .dataframe tbody tr th {\n",
       "        vertical-align: top;\n",
       "    }\n",
       "\n",
       "    .dataframe thead th {\n",
       "        text-align: right;\n",
       "    }\n",
       "</style>\n",
       "<table border=\"1\" class=\"dataframe\">\n",
       "  <thead>\n",
       "    <tr style=\"text-align: right;\">\n",
       "      <th></th>\n",
       "      <th>user_id</th>\n",
       "      <th>item_id</th>\n",
       "      <th>year</th>\n",
       "      <th>playtime</th>\n",
       "      <th>Action</th>\n",
       "      <th>Adventure</th>\n",
       "      <th>Animation &amp;amp; Modeling</th>\n",
       "      <th>Audio Production</th>\n",
       "      <th>Casual</th>\n",
       "      <th>Design &amp;amp; Illustration</th>\n",
       "      <th>...</th>\n",
       "      <th>Photo Editing</th>\n",
       "      <th>RPG</th>\n",
       "      <th>Racing</th>\n",
       "      <th>Simulation</th>\n",
       "      <th>Software Training</th>\n",
       "      <th>Sports</th>\n",
       "      <th>Strategy</th>\n",
       "      <th>Utilities</th>\n",
       "      <th>Video Production</th>\n",
       "      <th>Web Publishing</th>\n",
       "    </tr>\n",
       "  </thead>\n",
       "  <tbody>\n",
       "    <tr>\n",
       "      <th>0</th>\n",
       "      <td>--000--</td>\n",
       "      <td>4000</td>\n",
       "      <td>2014</td>\n",
       "      <td>925</td>\n",
       "      <td>0</td>\n",
       "      <td>0</td>\n",
       "      <td>0</td>\n",
       "      <td>0</td>\n",
       "      <td>0</td>\n",
       "      <td>0</td>\n",
       "      <td>...</td>\n",
       "      <td>0</td>\n",
       "      <td>0</td>\n",
       "      <td>0</td>\n",
       "      <td>1</td>\n",
       "      <td>0</td>\n",
       "      <td>0</td>\n",
       "      <td>0</td>\n",
       "      <td>0</td>\n",
       "      <td>0</td>\n",
       "      <td>0</td>\n",
       "    </tr>\n",
       "    <tr>\n",
       "      <th>1</th>\n",
       "      <td>--ace--</td>\n",
       "      <td>4000</td>\n",
       "      <td>2014</td>\n",
       "      <td>160</td>\n",
       "      <td>0</td>\n",
       "      <td>0</td>\n",
       "      <td>0</td>\n",
       "      <td>0</td>\n",
       "      <td>0</td>\n",
       "      <td>0</td>\n",
       "      <td>...</td>\n",
       "      <td>0</td>\n",
       "      <td>0</td>\n",
       "      <td>0</td>\n",
       "      <td>1</td>\n",
       "      <td>0</td>\n",
       "      <td>0</td>\n",
       "      <td>0</td>\n",
       "      <td>0</td>\n",
       "      <td>0</td>\n",
       "      <td>0</td>\n",
       "    </tr>\n",
       "    <tr>\n",
       "      <th>2</th>\n",
       "      <td>01001000-01101001</td>\n",
       "      <td>4000</td>\n",
       "      <td>2014</td>\n",
       "      <td>2124</td>\n",
       "      <td>0</td>\n",
       "      <td>0</td>\n",
       "      <td>0</td>\n",
       "      <td>0</td>\n",
       "      <td>0</td>\n",
       "      <td>0</td>\n",
       "      <td>...</td>\n",
       "      <td>0</td>\n",
       "      <td>0</td>\n",
       "      <td>0</td>\n",
       "      <td>1</td>\n",
       "      <td>0</td>\n",
       "      <td>0</td>\n",
       "      <td>0</td>\n",
       "      <td>0</td>\n",
       "      <td>0</td>\n",
       "      <td>0</td>\n",
       "    </tr>\n",
       "    <tr>\n",
       "      <th>3</th>\n",
       "      <td>011111135489484797</td>\n",
       "      <td>4000</td>\n",
       "      <td>2013</td>\n",
       "      <td>15440</td>\n",
       "      <td>0</td>\n",
       "      <td>0</td>\n",
       "      <td>0</td>\n",
       "      <td>0</td>\n",
       "      <td>0</td>\n",
       "      <td>0</td>\n",
       "      <td>...</td>\n",
       "      <td>0</td>\n",
       "      <td>0</td>\n",
       "      <td>0</td>\n",
       "      <td>1</td>\n",
       "      <td>0</td>\n",
       "      <td>0</td>\n",
       "      <td>0</td>\n",
       "      <td>0</td>\n",
       "      <td>0</td>\n",
       "      <td>0</td>\n",
       "    </tr>\n",
       "    <tr>\n",
       "      <th>4</th>\n",
       "      <td>01221733</td>\n",
       "      <td>4000</td>\n",
       "      <td>2015</td>\n",
       "      <td>3646</td>\n",
       "      <td>0</td>\n",
       "      <td>0</td>\n",
       "      <td>0</td>\n",
       "      <td>0</td>\n",
       "      <td>0</td>\n",
       "      <td>0</td>\n",
       "      <td>...</td>\n",
       "      <td>0</td>\n",
       "      <td>0</td>\n",
       "      <td>0</td>\n",
       "      <td>1</td>\n",
       "      <td>0</td>\n",
       "      <td>0</td>\n",
       "      <td>0</td>\n",
       "      <td>0</td>\n",
       "      <td>0</td>\n",
       "      <td>0</td>\n",
       "    </tr>\n",
       "  </tbody>\n",
       "</table>\n",
       "<p>5 rows × 25 columns</p>\n",
       "</div>"
      ],
      "text/plain": [
       "              user_id  item_id  year  playtime  Action  Adventure  \\\n",
       "0             --000--     4000  2014       925       0          0   \n",
       "1             --ace--     4000  2014       160       0          0   \n",
       "2   01001000-01101001     4000  2014      2124       0          0   \n",
       "3  011111135489484797     4000  2013     15440       0          0   \n",
       "4            01221733     4000  2015      3646       0          0   \n",
       "\n",
       "   Animation &amp; Modeling  Audio Production  Casual  \\\n",
       "0                         0                 0       0   \n",
       "1                         0                 0       0   \n",
       "2                         0                 0       0   \n",
       "3                         0                 0       0   \n",
       "4                         0                 0       0   \n",
       "\n",
       "   Design &amp; Illustration  ...  Photo Editing  RPG  Racing  Simulation  \\\n",
       "0                          0  ...              0    0       0           1   \n",
       "1                          0  ...              0    0       0           1   \n",
       "2                          0  ...              0    0       0           1   \n",
       "3                          0  ...              0    0       0           1   \n",
       "4                          0  ...              0    0       0           1   \n",
       "\n",
       "   Software Training  Sports  Strategy  Utilities  Video Production  \\\n",
       "0                  0       0         0          0                 0   \n",
       "1                  0       0         0          0                 0   \n",
       "2                  0       0         0          0                 0   \n",
       "3                  0       0         0          0                 0   \n",
       "4                  0       0         0          0                 0   \n",
       "\n",
       "   Web Publishing  \n",
       "0               0  \n",
       "1               0  \n",
       "2               0  \n",
       "3               0  \n",
       "4               0  \n",
       "\n",
       "[5 rows x 25 columns]"
      ]
     },
     "execution_count": 8,
     "metadata": {},
     "output_type": "execute_result"
    }
   ],
   "source": [
    "# Unimos el dataframe anterior con los dummies de géneros:\n",
    "df_userforgenre = pd.merge(df_sum_usertime, games_df[['item_id', 'Action',\n",
    "       'Adventure', 'Animation &amp; Modeling', 'Audio Production', 'Casual',\n",
    "       'Design &amp; Illustration', 'Early Access', 'Education',\n",
    "       'Free to Play', 'Indie', 'Massively Multiplayer', 'Photo Editing',\n",
    "       'RPG', 'Racing', 'Simulation', 'Software Training', 'Sports',\n",
    "       'Strategy', 'Utilities', 'Video Production', 'Web Publishing']], on=\"item_id\")\n",
    "\n",
    "df_userforgenre.head()"
   ]
  },
  {
   "cell_type": "code",
   "execution_count": 9,
   "metadata": {},
   "outputs": [
    {
     "name": "stdout",
     "output_type": "stream",
     "text": [
      "             user_id  year       genre  playtime\n",
      "0            --000--  2014       Indie       925\n",
      "1            --000--  2014  Simulation       925\n",
      "2            --ace--  2014       Indie       160\n",
      "3            --ace--  2014  Simulation       160\n",
      "4          --ionex--  2015      Action       105\n",
      "...              ...   ...         ...       ...\n",
      "17039      _spathis_  2013      Action       246\n",
      "17040      _spathis_  2014      Action       123\n",
      "17041  _steelphantom  2014      Action      1211\n",
      "17042  _steelphantom  2015      Action      1211\n",
      "17043       _useless  2015         Rpg       843\n",
      "\n",
      "[17044 rows x 4 columns]\n"
     ]
    }
   ],
   "source": [
    "# Utilizamos melt para convertir el DataFrame de ancho a largo:\n",
    "df_melted = pd.melt(df_userforgenre, id_vars=[\"user_id\", \"item_id\", \"year\", \"playtime\"], \n",
    "                    var_name=\"genre\", value_name=\"has_genre\")\n",
    "\n",
    "# Filtramos las filas donde el género está presente (has_genre == 1):\n",
    "df_filtered = df_melted[df_melted[\"has_genre\"] == 1]\n",
    "\n",
    "# Agrupamos por \"user_id\", \"release_year\" y \"genre\", y sumamos las horas jugadas:\n",
    "df_userforgenre_final = df_filtered.groupby([\"user_id\", \"year\", \"genre\"], as_index=False)[\"playtime\"].sum()\n",
    "\n",
    "# Capitalizamos el nombre del género:\n",
    "df_userforgenre_final[\"genre\"] = df_userforgenre_final[\"genre\"].str.replace('&amp;', '&').apply(str.capitalize)\n",
    "\n",
    "print(df_userforgenre_final)"
   ]
  },
  {
   "cell_type": "markdown",
   "metadata": {},
   "source": [
    "Desarrollamos la función:"
   ]
  },
  {
   "cell_type": "code",
   "execution_count": 10,
   "metadata": {},
   "outputs": [],
   "source": [
    "# Creamos la función UserForGenre:\n",
    "def UserForGenre(genero):\n",
    "\n",
    "    # Verificamos si la variable introducida es una cadena de texto:\n",
    "    if type(genero) != str: return f\"El género '{genero}' no existe.\"\n",
    "    else:\n",
    "\n",
    "        # Capitalizamos la cadena de texto:\n",
    "        genero = genero.strip().capitalize()\n",
    "    \n",
    "        # Comprobamos si el género existe en el DataFrame:\n",
    "        if genero not in df_userforgenre_final[\"genre\"].tolist():\n",
    "            return f\"El género '{genero}' no existe o no tiene horas de juego.\"\n",
    "\n",
    "        # En caso de que el género introducido si tenga horas de juego:\n",
    "        else:\n",
    "\n",
    "            # Filtramos por género, ordenamos con orden de años descendente:\n",
    "            df_genero = df_userforgenre_final[df_userforgenre_final[\"genre\"] == genero].sort_values(by=\"year\", ascending=False)\n",
    "\n",
    "            # Agrupamos haciendo suma de las horas jugadas según usuario:\n",
    "            df_genero_grouped = df_genero.groupby([\"user_id\", \"genre\"], as_index=False)[\"playtime\"].sum()\n",
    "\n",
    "            # Hallamos el índice del mayor tiempo de juego:\n",
    "            indice_max_playtime = df_genero_grouped[\"playtime\"].idxmax()\n",
    "\n",
    "            # Hallamos el usuario con dicho índice:\n",
    "            user = df_genero_grouped.loc[indice_max_playtime][\"user_id\"]\n",
    "\n",
    "            # Buscamos el historial de juego del usuario:\n",
    "            historial = df_genero[df_genero[\"user_id\"] == user]\n",
    "\n",
    "            # Creamos la variable que utilizaremos como respuesta final:\n",
    "            diccionario = {f\"Usuario con más horas jugadas para Género {genero}\" : user,\n",
    "                        \"Horas jugadas\":[]}\n",
    "\n",
    "            # Rellenamos esa variable:\n",
    "            for index, row in historial.iterrows():\n",
    "                diccionario[\"Horas jugadas\"].append({\"Año\": row[\"year\"], \"Horas\": row[\"playtime\"]})\n",
    "\n",
    "            # Devolvemos la respuesta final:\n",
    "            return diccionario"
   ]
  },
  {
   "cell_type": "code",
   "execution_count": 11,
   "metadata": {},
   "outputs": [
    {
     "name": "stdout",
     "output_type": "stream",
     "text": [
      "{'Usuario con más horas jugadas para Género Simulation': '76561198047208774', 'Horas jugadas': [{'Año': 2015, 'Horas': 231334}, {'Año': 2012, 'Horas': 231334}]}\n",
      "{'Usuario con más horas jugadas para Género Action': 'Jantoz', 'Horas jugadas': [{'Año': 2014, 'Horas': 894792}]}\n",
      "El género 'Acción' no existe o no tiene horas de juego.\n",
      "El género '123' no existe.\n",
      "{'Usuario con más horas jugadas para Género Rpg': '76561198166194627', 'Horas jugadas': [{'Año': 2014, 'Horas': 187157}]}\n",
      "El género 'Photo editing' no existe o no tiene horas de juego.\n"
     ]
    }
   ],
   "source": [
    "# Probamos la función\n",
    "print(UserForGenre(\"Simulation  \"))\n",
    "print(UserForGenre(\"acTion\"))\n",
    "print(UserForGenre(\"Acción\"))\n",
    "print(UserForGenre(123))\n",
    "print(UserForGenre(\"Rpg\"))\n",
    "print(UserForGenre(\"  photo editing\"))"
   ]
  },
  {
   "cell_type": "markdown",
   "metadata": {},
   "source": [
    "Guardamos el DataFrame utilizado:"
   ]
  },
  {
   "cell_type": "code",
   "execution_count": 12,
   "metadata": {},
   "outputs": [],
   "source": [
    "# Guardamos el dataframe \"df_userforgenre_final\":\n",
    "df_userforgenre_final.to_csv(r\"..\\Archivos Producidos\\Data para Endpoints\\df_userforgenre_final.csv\", index=False)"
   ]
  }
 ],
 "metadata": {
  "kernelspec": {
   "display_name": "Python 3",
   "language": "python",
   "name": "python3"
  },
  "language_info": {
   "codemirror_mode": {
    "name": "ipython",
    "version": 3
   },
   "file_extension": ".py",
   "mimetype": "text/x-python",
   "name": "python",
   "nbconvert_exporter": "python",
   "pygments_lexer": "ipython3",
   "version": "3.11.4"
  }
 },
 "nbformat": 4,
 "nbformat_minor": 2
}
