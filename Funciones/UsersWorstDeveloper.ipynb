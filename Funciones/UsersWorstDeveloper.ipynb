{
 "cells": [
  {
   "cell_type": "code",
   "execution_count": 1,
   "metadata": {},
   "outputs": [],
   "source": [
    "import pandas as pd"
   ]
  },
  {
   "cell_type": "markdown",
   "metadata": {},
   "source": [
    "<h1>UsersWorstDeveloper</h1>"
   ]
  },
  {
   "cell_type": "markdown",
   "metadata": {},
   "source": [
    "def UsersWorstDeveloper( año : int ): Devuelve el top 3 de desarrolladoras con juegos MENOS recomendados por usuarios para el año dado. (reviews.recommend = False y comentarios negativos)\n",
    "Ejemplo de retorno: [{\"Puesto 1\" : X}, {\"Puesto 2\" : Y},{\"Puesto 3\" : Z}]"
   ]
  },
  {
   "cell_type": "code",
   "execution_count": 2,
   "metadata": {},
   "outputs": [],
   "source": [
    "# Cargamos los archivos CSV a utilizar:\n",
    "games_df = pd.read_csv(r\"..\\Archivos Producidos\\games.csv\")\n",
    "reviews_df = pd.read_csv(r\"..\\Archivos Producidos\\reviews.csv\")\n",
    "\n",
    "# Convertimos algunos tipos de columna que no se cargaron correctamente:\n",
    "reviews_df[\"item_id\"] = reviews_df[\"item_id\"].astype(\"Int64\")\n",
    "reviews_df[\"year\"] = reviews_df[\"year\"].astype(\"Int64\")"
   ]
  },
  {
   "cell_type": "code",
   "execution_count": 3,
   "metadata": {},
   "outputs": [
    {
     "data": {
      "text/plain": [
       "app_name                     object\n",
       "release_year                  int64\n",
       "item_id                       int64\n",
       "developer                    object\n",
       "Action                        int64\n",
       "Adventure                     int64\n",
       "Animation &amp; Modeling      int64\n",
       "Audio Production              int64\n",
       "Casual                        int64\n",
       "Design &amp; Illustration     int64\n",
       "Early Access                  int64\n",
       "Education                     int64\n",
       "Free to Play                  int64\n",
       "Indie                         int64\n",
       "Massively Multiplayer         int64\n",
       "Photo Editing                 int64\n",
       "RPG                           int64\n",
       "Racing                        int64\n",
       "Simulation                    int64\n",
       "Software Training             int64\n",
       "Sports                        int64\n",
       "Strategy                      int64\n",
       "Utilities                     int64\n",
       "Video Production              int64\n",
       "Web Publishing                int64\n",
       "dtype: object"
      ]
     },
     "execution_count": 3,
     "metadata": {},
     "output_type": "execute_result"
    }
   ],
   "source": [
    "games_df.dtypes"
   ]
  },
  {
   "cell_type": "code",
   "execution_count": 4,
   "metadata": {},
   "outputs": [
    {
     "data": {
      "text/plain": [
       "user_id               object\n",
       "item_id                Int64\n",
       "recommend               bool\n",
       "review                object\n",
       "year                   Int64\n",
       "sentiment_analysis     int64\n",
       "dtype: object"
      ]
     },
     "execution_count": 4,
     "metadata": {},
     "output_type": "execute_result"
    }
   ],
   "source": [
    "reviews_df.dtypes"
   ]
  },
  {
   "cell_type": "markdown",
   "metadata": {},
   "source": [
    "Ya cargados los archivos, comenzamos con las transformaciones:"
   ]
  },
  {
   "cell_type": "code",
   "execution_count": 5,
   "metadata": {},
   "outputs": [
    {
     "data": {
      "text/html": [
       "<div>\n",
       "<style scoped>\n",
       "    .dataframe tbody tr th:only-of-type {\n",
       "        vertical-align: middle;\n",
       "    }\n",
       "\n",
       "    .dataframe tbody tr th {\n",
       "        vertical-align: top;\n",
       "    }\n",
       "\n",
       "    .dataframe thead th {\n",
       "        text-align: right;\n",
       "    }\n",
       "</style>\n",
       "<table border=\"1\" class=\"dataframe\">\n",
       "  <thead>\n",
       "    <tr style=\"text-align: right;\">\n",
       "      <th></th>\n",
       "      <th>developer</th>\n",
       "      <th>item_id</th>\n",
       "      <th>recommend</th>\n",
       "      <th>year</th>\n",
       "      <th>sentiment_analysis</th>\n",
       "    </tr>\n",
       "  </thead>\n",
       "  <tbody>\n",
       "    <tr>\n",
       "      <th>0</th>\n",
       "      <td>Stainless games ltd</td>\n",
       "      <td>282010</td>\n",
       "      <td>True</td>\n",
       "      <td>&lt;NA&gt;</td>\n",
       "      <td>1</td>\n",
       "    </tr>\n",
       "    <tr>\n",
       "      <th>1</th>\n",
       "      <td>Valve</td>\n",
       "      <td>70</td>\n",
       "      <td>True</td>\n",
       "      <td>2015</td>\n",
       "      <td>1</td>\n",
       "    </tr>\n",
       "    <tr>\n",
       "      <th>2</th>\n",
       "      <td>Valve</td>\n",
       "      <td>70</td>\n",
       "      <td>True</td>\n",
       "      <td>2011</td>\n",
       "      <td>1</td>\n",
       "    </tr>\n",
       "    <tr>\n",
       "      <th>3</th>\n",
       "      <td>Valve</td>\n",
       "      <td>70</td>\n",
       "      <td>True</td>\n",
       "      <td>2014</td>\n",
       "      <td>1</td>\n",
       "    </tr>\n",
       "    <tr>\n",
       "      <th>4</th>\n",
       "      <td>Valve</td>\n",
       "      <td>70</td>\n",
       "      <td>True</td>\n",
       "      <td>2013</td>\n",
       "      <td>2</td>\n",
       "    </tr>\n",
       "  </tbody>\n",
       "</table>\n",
       "</div>"
      ],
      "text/plain": [
       "             developer  item_id  recommend  year  sentiment_analysis\n",
       "0  Stainless games ltd   282010       True  <NA>                   1\n",
       "1                Valve       70       True  2015                   1\n",
       "2                Valve       70       True  2011                   1\n",
       "3                Valve       70       True  2014                   1\n",
       "4                Valve       70       True  2013                   2"
      ]
     },
     "execution_count": 5,
     "metadata": {},
     "output_type": "execute_result"
    }
   ],
   "source": [
    "# Unimos las columnas que nos serán de utilidad:\n",
    "df_r_g = pd.merge(games_df[[\"developer\", \"item_id\"]], reviews_df[[\"item_id\", \"recommend\", \"year\", \"sentiment_analysis\"]], on=\"item_id\")\n",
    "df_r_g.head()"
   ]
  },
  {
   "cell_type": "code",
   "execution_count": 6,
   "metadata": {},
   "outputs": [
    {
     "name": "stdout",
     "output_type": "stream",
     "text": [
      "48832\n"
     ]
    }
   ],
   "source": [
    "print(len(df_r_g)) # Chequeamos la cantidad de registros"
   ]
  },
  {
   "cell_type": "code",
   "execution_count": 7,
   "metadata": {},
   "outputs": [],
   "source": [
    "# Eliminamos registros donde \"recommend\" no sea False:\n",
    "df_r_g = df_r_g[df_r_g[\"recommend\"] == False]\n",
    "\n",
    "# Eliminamos registros donde \"sentiment_analysis\" no sea 0:\n",
    "df_r_g = df_r_g[df_r_g[\"sentiment_analysis\"] == 0]\n",
    "\n",
    "# Eliminamos registros donde \"year\" sea nulo:\n",
    "df_r_g = df_r_g[df_r_g[\"year\"] != None]"
   ]
  },
  {
   "cell_type": "code",
   "execution_count": 8,
   "metadata": {},
   "outputs": [
    {
     "name": "stdout",
     "output_type": "stream",
     "text": [
      "1325\n"
     ]
    }
   ],
   "source": [
    "print(len(df_r_g)) # Chequeamos la cantidad de registros"
   ]
  },
  {
   "cell_type": "code",
   "execution_count": 9,
   "metadata": {},
   "outputs": [
    {
     "data": {
      "text/html": [
       "<div>\n",
       "<style scoped>\n",
       "    .dataframe tbody tr th:only-of-type {\n",
       "        vertical-align: middle;\n",
       "    }\n",
       "\n",
       "    .dataframe tbody tr th {\n",
       "        vertical-align: top;\n",
       "    }\n",
       "\n",
       "    .dataframe thead th {\n",
       "        text-align: right;\n",
       "    }\n",
       "</style>\n",
       "<table border=\"1\" class=\"dataframe\">\n",
       "  <thead>\n",
       "    <tr style=\"text-align: right;\">\n",
       "      <th></th>\n",
       "      <th>developer</th>\n",
       "      <th>year</th>\n",
       "    </tr>\n",
       "  </thead>\n",
       "  <tbody>\n",
       "    <tr>\n",
       "      <th>73</th>\n",
       "      <td>Outerlight ltd.</td>\n",
       "      <td>2014</td>\n",
       "    </tr>\n",
       "    <tr>\n",
       "      <th>91</th>\n",
       "      <td>Introversion software</td>\n",
       "      <td>2014</td>\n",
       "    </tr>\n",
       "    <tr>\n",
       "      <th>141</th>\n",
       "      <td>Facepunch studios</td>\n",
       "      <td>2015</td>\n",
       "    </tr>\n",
       "    <tr>\n",
       "      <th>246</th>\n",
       "      <td>Facepunch studios</td>\n",
       "      <td>2015</td>\n",
       "    </tr>\n",
       "    <tr>\n",
       "      <th>371</th>\n",
       "      <td>Facepunch studios</td>\n",
       "      <td>2015</td>\n",
       "    </tr>\n",
       "  </tbody>\n",
       "</table>\n",
       "</div>"
      ],
      "text/plain": [
       "                 developer  year\n",
       "73         Outerlight ltd.  2014\n",
       "91   Introversion software  2014\n",
       "141      Facepunch studios  2015\n",
       "246      Facepunch studios  2015\n",
       "371      Facepunch studios  2015"
      ]
     },
     "execution_count": 9,
     "metadata": {},
     "output_type": "execute_result"
    }
   ],
   "source": [
    "# Eliminamos la columnas que ya no utilizaremos:\n",
    "df_r_g.drop(columns=[\"item_id\", \"recommend\", \"sentiment_analysis\"], inplace=True)\n",
    "df_r_g.head()"
   ]
  },
  {
   "cell_type": "code",
   "execution_count": 10,
   "metadata": {},
   "outputs": [
    {
     "data": {
      "text/html": [
       "<div>\n",
       "<style scoped>\n",
       "    .dataframe tbody tr th:only-of-type {\n",
       "        vertical-align: middle;\n",
       "    }\n",
       "\n",
       "    .dataframe tbody tr th {\n",
       "        vertical-align: top;\n",
       "    }\n",
       "\n",
       "    .dataframe thead th {\n",
       "        text-align: right;\n",
       "    }\n",
       "</style>\n",
       "<table border=\"1\" class=\"dataframe\">\n",
       "  <thead>\n",
       "    <tr style=\"text-align: right;\">\n",
       "      <th></th>\n",
       "      <th>developer</th>\n",
       "      <th>year</th>\n",
       "      <th>no_recommendation</th>\n",
       "    </tr>\n",
       "  </thead>\n",
       "  <tbody>\n",
       "    <tr>\n",
       "      <th>548</th>\n",
       "      <td>Valve</td>\n",
       "      <td>2015</td>\n",
       "      <td>58</td>\n",
       "    </tr>\n",
       "    <tr>\n",
       "      <th>62</th>\n",
       "      <td>Bohemia interactive</td>\n",
       "      <td>2015</td>\n",
       "      <td>34</td>\n",
       "    </tr>\n",
       "    <tr>\n",
       "      <th>203</th>\n",
       "      <td>Facepunch studios</td>\n",
       "      <td>2015</td>\n",
       "      <td>29</td>\n",
       "    </tr>\n",
       "    <tr>\n",
       "      <th>547</th>\n",
       "      <td>Valve</td>\n",
       "      <td>2014</td>\n",
       "      <td>28</td>\n",
       "    </tr>\n",
       "    <tr>\n",
       "      <th>61</th>\n",
       "      <td>Bohemia interactive</td>\n",
       "      <td>2014</td>\n",
       "      <td>27</td>\n",
       "    </tr>\n",
       "  </tbody>\n",
       "</table>\n",
       "</div>"
      ],
      "text/plain": [
       "               developer  year  no_recommendation\n",
       "548                Valve  2015                 58\n",
       "62   Bohemia interactive  2015                 34\n",
       "203    Facepunch studios  2015                 29\n",
       "547                Valve  2014                 28\n",
       "61   Bohemia interactive  2014                 27"
      ]
     },
     "execution_count": 10,
     "metadata": {},
     "output_type": "execute_result"
    }
   ],
   "source": [
    "# Agregamos una columna de no-recomendaciones:\n",
    "df_r_g[\"no_recommendation\"] = 1\n",
    "\n",
    "# Agrupamos por \"developer\" y \"year\" y contamos las no-recomendaciones:\n",
    "df_usersworstdeveloper = df_r_g.groupby([\"developer\", \"year\"]).agg({\"no_recommendation\": \"count\"}).reset_index()\n",
    "\n",
    "# Lo ordenamos en cantidad de no-recomendaciones descendiente:\n",
    "df_usersworstdeveloper = df_usersworstdeveloper.sort_values(by=\"no_recommendation\", ascending=False)\n",
    "\n",
    "df_usersworstdeveloper.head()"
   ]
  },
  {
   "cell_type": "markdown",
   "metadata": {},
   "source": [
    "Desarrollamos la función:"
   ]
  },
  {
   "cell_type": "code",
   "execution_count": 11,
   "metadata": {},
   "outputs": [],
   "source": [
    "# Creamos la función UsersWorstDeveloper:\n",
    "def UsersWorstDeveloper(año):\n",
    "\n",
    "    # Corroboramos que el año introducido sea un número:\n",
    "    if isinstance(año, int):\n",
    "        \n",
    "        # En caso de que el año no se encuentre en el DataFrame:\n",
    "        if año not in df_usersworstdeveloper[\"year\"].tolist(): return f\"{año} no se encuentra entre los años disponibles.\"\n",
    "\n",
    "        # Caso contrario (ideal):\n",
    "        else:\n",
    "\n",
    "            # Filtramos por año:\n",
    "            df_año = df_usersworstdeveloper[df_usersworstdeveloper[\"year\"] == año].head(3)\n",
    "\n",
    "            # Creamos la variable que utilizaremos como respuesta final:\n",
    "            respuesta = [{\"Puesto 1\": None}, {\"Puesto 2\": None}, {\"Puesto 3\": None}]\n",
    "\n",
    "            # Rellenamos esa variable:\n",
    "            respuesta[0][\"Puesto 1\"] = df_año.iloc[0][\"developer\"]\n",
    "            respuesta[1][\"Puesto 2\"] = df_año.iloc[1][\"developer\"]\n",
    "            respuesta[2][\"Puesto 3\"] = df_año.iloc[2][\"developer\"]\n",
    "\n",
    "            # Devolvemos la respuesta final:\n",
    "            return respuesta\n",
    "\n",
    "\n",
    "    # En caso de que el año introducido no sea un número:\n",
    "    else: return f\"'{año}' no es un año válido.\""
   ]
  },
  {
   "cell_type": "code",
   "execution_count": 12,
   "metadata": {},
   "outputs": [
    {
     "name": "stdout",
     "output_type": "stream",
     "text": [
      "'Prueba' no es un año válido.\n",
      "[{'Puesto 1': 'Valve'}, {'Puesto 2': 'Bohemia interactive'}, {'Puesto 3': 'Facepunch studios'}]\n",
      "2018 no se encuentra entre los años disponibles.\n",
      "2018 no se encuentra entre los años disponibles.\n",
      "2010 no se encuentra entre los años disponibles.\n",
      "[{'Puesto 1': 'Valve'}, {'Puesto 2': 'Infinity ward'}, {'Puesto 3': 'Jagex limited'}]\n"
     ]
    }
   ],
   "source": [
    "# Probamos la función\n",
    "print(UsersWorstDeveloper(\"Prueba\"))\n",
    "print(UsersWorstDeveloper( 2015))\n",
    "print(UsersWorstDeveloper(  2018 ))\n",
    "print(UsersWorstDeveloper(2018))\n",
    "print(UsersWorstDeveloper(2010))\n",
    "print(UsersWorstDeveloper(2013 ))"
   ]
  },
  {
   "cell_type": "markdown",
   "metadata": {},
   "source": [
    "Guardamos el DataFrame utilizado:"
   ]
  },
  {
   "cell_type": "code",
   "execution_count": 13,
   "metadata": {},
   "outputs": [],
   "source": [
    "# Guardamos el dataframe \"df_usersworstdeveloper\":\n",
    "df_usersworstdeveloper.to_csv(r\"..\\Archivos Producidos\\Data para Endpoints\\df_usersworstdeveloper.csv\", index=False)"
   ]
  }
 ],
 "metadata": {
  "kernelspec": {
   "display_name": "Python 3",
   "language": "python",
   "name": "python3"
  },
  "language_info": {
   "codemirror_mode": {
    "name": "ipython",
    "version": 3
   },
   "file_extension": ".py",
   "mimetype": "text/x-python",
   "name": "python",
   "nbconvert_exporter": "python",
   "pygments_lexer": "ipython3",
   "version": "3.11.4"
  }
 },
 "nbformat": 4,
 "nbformat_minor": 2
}
