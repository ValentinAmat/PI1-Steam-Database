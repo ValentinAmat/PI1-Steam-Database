{
 "cells": [
  {
   "cell_type": "code",
   "execution_count": 2,
   "metadata": {},
   "outputs": [],
   "source": [
    "import pandas as pd"
   ]
  },
  {
   "cell_type": "markdown",
   "metadata": {},
   "source": [
    "<h1>PlayTimeGenre</h1>"
   ]
  },
  {
   "cell_type": "markdown",
   "metadata": {},
   "source": [
    "def PlayTimeGenre( genero : str ): Debe devolver año con mas horas jugadas para dicho género.\n",
    "Ejemplo de retorno: {\"Año de lanzamiento con más horas jugadas para Género X\" : 2013}"
   ]
  },
  {
   "cell_type": "code",
   "execution_count": 3,
   "metadata": {},
   "outputs": [],
   "source": [
    "# Cargamos los archivos CSV a utilizar:\n",
    "games_df = pd.read_csv(r\"..\\Archivos Producidos\\games.csv\")\n",
    "users_df = pd.read_csv(r\"..\\Archivos Producidos\\users.csv\")"
   ]
  },
  {
   "cell_type": "code",
   "execution_count": 4,
   "metadata": {},
   "outputs": [
    {
     "data": {
      "text/plain": [
       "app_name                     object\n",
       "release_year                  int64\n",
       "item_id                       int64\n",
       "developer                    object\n",
       "Action                        int64\n",
       "Adventure                     int64\n",
       "Animation &amp; Modeling      int64\n",
       "Audio Production              int64\n",
       "Casual                        int64\n",
       "Design &amp; Illustration     int64\n",
       "Early Access                  int64\n",
       "Education                     int64\n",
       "Free to Play                  int64\n",
       "Indie                         int64\n",
       "Massively Multiplayer         int64\n",
       "Photo Editing                 int64\n",
       "RPG                           int64\n",
       "Racing                        int64\n",
       "Simulation                    int64\n",
       "Software Training             int64\n",
       "Sports                        int64\n",
       "Strategy                      int64\n",
       "Utilities                     int64\n",
       "Video Production              int64\n",
       "Web Publishing                int64\n",
       "dtype: object"
      ]
     },
     "execution_count": 4,
     "metadata": {},
     "output_type": "execute_result"
    }
   ],
   "source": [
    "games_df.dtypes"
   ]
  },
  {
   "cell_type": "code",
   "execution_count": 5,
   "metadata": {},
   "outputs": [
    {
     "data": {
      "text/plain": [
       "user_id     object\n",
       "playtime     int64\n",
       "item_id      int64\n",
       "dtype: object"
      ]
     },
     "execution_count": 5,
     "metadata": {},
     "output_type": "execute_result"
    }
   ],
   "source": [
    "users_df.dtypes"
   ]
  },
  {
   "cell_type": "markdown",
   "metadata": {},
   "source": [
    "Ya cargados los archivos, comenzamos con las transformaciones:"
   ]
  },
  {
   "cell_type": "code",
   "execution_count": 6,
   "metadata": {},
   "outputs": [
    {
     "data": {
      "text/html": [
       "<div>\n",
       "<style scoped>\n",
       "    .dataframe tbody tr th:only-of-type {\n",
       "        vertical-align: middle;\n",
       "    }\n",
       "\n",
       "    .dataframe tbody tr th {\n",
       "        vertical-align: top;\n",
       "    }\n",
       "\n",
       "    .dataframe thead th {\n",
       "        text-align: right;\n",
       "    }\n",
       "</style>\n",
       "<table border=\"1\" class=\"dataframe\">\n",
       "  <thead>\n",
       "    <tr style=\"text-align: right;\">\n",
       "      <th></th>\n",
       "      <th>item_id</th>\n",
       "      <th>playtime</th>\n",
       "      <th>release_year</th>\n",
       "    </tr>\n",
       "  </thead>\n",
       "  <tbody>\n",
       "    <tr>\n",
       "      <th>0</th>\n",
       "      <td>10</td>\n",
       "      <td>6</td>\n",
       "      <td>2000</td>\n",
       "    </tr>\n",
       "    <tr>\n",
       "      <th>1</th>\n",
       "      <td>10</td>\n",
       "      <td>0</td>\n",
       "      <td>2000</td>\n",
       "    </tr>\n",
       "    <tr>\n",
       "      <th>2</th>\n",
       "      <td>10</td>\n",
       "      <td>0</td>\n",
       "      <td>2000</td>\n",
       "    </tr>\n",
       "    <tr>\n",
       "      <th>3</th>\n",
       "      <td>10</td>\n",
       "      <td>328</td>\n",
       "      <td>2000</td>\n",
       "    </tr>\n",
       "    <tr>\n",
       "      <th>4</th>\n",
       "      <td>10</td>\n",
       "      <td>580</td>\n",
       "      <td>2000</td>\n",
       "    </tr>\n",
       "  </tbody>\n",
       "</table>\n",
       "</div>"
      ],
      "text/plain": [
       "   item_id  playtime  release_year\n",
       "0       10         6          2000\n",
       "1       10         0          2000\n",
       "2       10         0          2000\n",
       "3       10       328          2000\n",
       "4       10       580          2000"
      ]
     },
     "execution_count": 6,
     "metadata": {},
     "output_type": "execute_result"
    }
   ],
   "source": [
    "# Unimos las columnas que nos serán de utilidad:\n",
    "df_u_g = pd.merge(users_df[[\"item_id\", \"playtime\"]], games_df[[\"item_id\", \"release_year\"]], on=\"item_id\")\n",
    "df_u_g.head()"
   ]
  },
  {
   "cell_type": "code",
   "execution_count": 7,
   "metadata": {},
   "outputs": [
    {
     "data": {
      "text/html": [
       "<div>\n",
       "<style scoped>\n",
       "    .dataframe tbody tr th:only-of-type {\n",
       "        vertical-align: middle;\n",
       "    }\n",
       "\n",
       "    .dataframe tbody tr th {\n",
       "        vertical-align: top;\n",
       "    }\n",
       "\n",
       "    .dataframe thead th {\n",
       "        text-align: right;\n",
       "    }\n",
       "</style>\n",
       "<table border=\"1\" class=\"dataframe\">\n",
       "  <thead>\n",
       "    <tr style=\"text-align: right;\">\n",
       "      <th></th>\n",
       "      <th>item_id</th>\n",
       "      <th>release_year</th>\n",
       "      <th>playtime</th>\n",
       "    </tr>\n",
       "  </thead>\n",
       "  <tbody>\n",
       "    <tr>\n",
       "      <th>0</th>\n",
       "      <td>10</td>\n",
       "      <td>2000</td>\n",
       "      <td>14585747</td>\n",
       "    </tr>\n",
       "    <tr>\n",
       "      <th>1</th>\n",
       "      <td>20</td>\n",
       "      <td>1999</td>\n",
       "      <td>92533</td>\n",
       "    </tr>\n",
       "    <tr>\n",
       "      <th>2</th>\n",
       "      <td>30</td>\n",
       "      <td>2003</td>\n",
       "      <td>33393</td>\n",
       "    </tr>\n",
       "    <tr>\n",
       "      <th>3</th>\n",
       "      <td>40</td>\n",
       "      <td>2001</td>\n",
       "      <td>789</td>\n",
       "    </tr>\n",
       "    <tr>\n",
       "      <th>4</th>\n",
       "      <td>50</td>\n",
       "      <td>1999</td>\n",
       "      <td>91574</td>\n",
       "    </tr>\n",
       "  </tbody>\n",
       "</table>\n",
       "</div>"
      ],
      "text/plain": [
       "   item_id  release_year  playtime\n",
       "0       10          2000  14585747\n",
       "1       20          1999     92533\n",
       "2       30          2003     33393\n",
       "3       40          2001       789\n",
       "4       50          1999     91574"
      ]
     },
     "execution_count": 7,
     "metadata": {},
     "output_type": "execute_result"
    }
   ],
   "source": [
    "# Agrupamos por \"item_id\" y \"release_year\" y sumamos las horas jugadas:\n",
    "df_sum_playtime = df_u_g.groupby([\"item_id\", \"release_year\"])[\"playtime\"].sum().reset_index()\n",
    "df_sum_playtime.head()"
   ]
  },
  {
   "cell_type": "code",
   "execution_count": 8,
   "metadata": {},
   "outputs": [
    {
     "data": {
      "text/html": [
       "<div>\n",
       "<style scoped>\n",
       "    .dataframe tbody tr th:only-of-type {\n",
       "        vertical-align: middle;\n",
       "    }\n",
       "\n",
       "    .dataframe tbody tr th {\n",
       "        vertical-align: top;\n",
       "    }\n",
       "\n",
       "    .dataframe thead th {\n",
       "        text-align: right;\n",
       "    }\n",
       "</style>\n",
       "<table border=\"1\" class=\"dataframe\">\n",
       "  <thead>\n",
       "    <tr style=\"text-align: right;\">\n",
       "      <th></th>\n",
       "      <th>item_id</th>\n",
       "      <th>release_year</th>\n",
       "      <th>playtime</th>\n",
       "      <th>Action</th>\n",
       "      <th>Adventure</th>\n",
       "      <th>Animation &amp;amp; Modeling</th>\n",
       "      <th>Audio Production</th>\n",
       "      <th>Casual</th>\n",
       "      <th>Design &amp;amp; Illustration</th>\n",
       "      <th>Early Access</th>\n",
       "      <th>...</th>\n",
       "      <th>Photo Editing</th>\n",
       "      <th>RPG</th>\n",
       "      <th>Racing</th>\n",
       "      <th>Simulation</th>\n",
       "      <th>Software Training</th>\n",
       "      <th>Sports</th>\n",
       "      <th>Strategy</th>\n",
       "      <th>Utilities</th>\n",
       "      <th>Video Production</th>\n",
       "      <th>Web Publishing</th>\n",
       "    </tr>\n",
       "  </thead>\n",
       "  <tbody>\n",
       "    <tr>\n",
       "      <th>0</th>\n",
       "      <td>10</td>\n",
       "      <td>2000</td>\n",
       "      <td>14585747</td>\n",
       "      <td>1</td>\n",
       "      <td>0</td>\n",
       "      <td>0</td>\n",
       "      <td>0</td>\n",
       "      <td>0</td>\n",
       "      <td>0</td>\n",
       "      <td>0</td>\n",
       "      <td>...</td>\n",
       "      <td>0</td>\n",
       "      <td>0</td>\n",
       "      <td>0</td>\n",
       "      <td>0</td>\n",
       "      <td>0</td>\n",
       "      <td>0</td>\n",
       "      <td>0</td>\n",
       "      <td>0</td>\n",
       "      <td>0</td>\n",
       "      <td>0</td>\n",
       "    </tr>\n",
       "    <tr>\n",
       "      <th>1</th>\n",
       "      <td>20</td>\n",
       "      <td>1999</td>\n",
       "      <td>92533</td>\n",
       "      <td>1</td>\n",
       "      <td>0</td>\n",
       "      <td>0</td>\n",
       "      <td>0</td>\n",
       "      <td>0</td>\n",
       "      <td>0</td>\n",
       "      <td>0</td>\n",
       "      <td>...</td>\n",
       "      <td>0</td>\n",
       "      <td>0</td>\n",
       "      <td>0</td>\n",
       "      <td>0</td>\n",
       "      <td>0</td>\n",
       "      <td>0</td>\n",
       "      <td>0</td>\n",
       "      <td>0</td>\n",
       "      <td>0</td>\n",
       "      <td>0</td>\n",
       "    </tr>\n",
       "    <tr>\n",
       "      <th>2</th>\n",
       "      <td>30</td>\n",
       "      <td>2003</td>\n",
       "      <td>33393</td>\n",
       "      <td>1</td>\n",
       "      <td>0</td>\n",
       "      <td>0</td>\n",
       "      <td>0</td>\n",
       "      <td>0</td>\n",
       "      <td>0</td>\n",
       "      <td>0</td>\n",
       "      <td>...</td>\n",
       "      <td>0</td>\n",
       "      <td>0</td>\n",
       "      <td>0</td>\n",
       "      <td>0</td>\n",
       "      <td>0</td>\n",
       "      <td>0</td>\n",
       "      <td>0</td>\n",
       "      <td>0</td>\n",
       "      <td>0</td>\n",
       "      <td>0</td>\n",
       "    </tr>\n",
       "    <tr>\n",
       "      <th>3</th>\n",
       "      <td>40</td>\n",
       "      <td>2001</td>\n",
       "      <td>789</td>\n",
       "      <td>1</td>\n",
       "      <td>0</td>\n",
       "      <td>0</td>\n",
       "      <td>0</td>\n",
       "      <td>0</td>\n",
       "      <td>0</td>\n",
       "      <td>0</td>\n",
       "      <td>...</td>\n",
       "      <td>0</td>\n",
       "      <td>0</td>\n",
       "      <td>0</td>\n",
       "      <td>0</td>\n",
       "      <td>0</td>\n",
       "      <td>0</td>\n",
       "      <td>0</td>\n",
       "      <td>0</td>\n",
       "      <td>0</td>\n",
       "      <td>0</td>\n",
       "    </tr>\n",
       "    <tr>\n",
       "      <th>4</th>\n",
       "      <td>50</td>\n",
       "      <td>1999</td>\n",
       "      <td>91574</td>\n",
       "      <td>1</td>\n",
       "      <td>0</td>\n",
       "      <td>0</td>\n",
       "      <td>0</td>\n",
       "      <td>0</td>\n",
       "      <td>0</td>\n",
       "      <td>0</td>\n",
       "      <td>...</td>\n",
       "      <td>0</td>\n",
       "      <td>0</td>\n",
       "      <td>0</td>\n",
       "      <td>0</td>\n",
       "      <td>0</td>\n",
       "      <td>0</td>\n",
       "      <td>0</td>\n",
       "      <td>0</td>\n",
       "      <td>0</td>\n",
       "      <td>0</td>\n",
       "    </tr>\n",
       "  </tbody>\n",
       "</table>\n",
       "<p>5 rows × 24 columns</p>\n",
       "</div>"
      ],
      "text/plain": [
       "   item_id  release_year  playtime  Action  Adventure  \\\n",
       "0       10          2000  14585747       1          0   \n",
       "1       20          1999     92533       1          0   \n",
       "2       30          2003     33393       1          0   \n",
       "3       40          2001       789       1          0   \n",
       "4       50          1999     91574       1          0   \n",
       "\n",
       "   Animation &amp; Modeling  Audio Production  Casual  \\\n",
       "0                         0                 0       0   \n",
       "1                         0                 0       0   \n",
       "2                         0                 0       0   \n",
       "3                         0                 0       0   \n",
       "4                         0                 0       0   \n",
       "\n",
       "   Design &amp; Illustration  Early Access  ...  Photo Editing  RPG  Racing  \\\n",
       "0                          0             0  ...              0    0       0   \n",
       "1                          0             0  ...              0    0       0   \n",
       "2                          0             0  ...              0    0       0   \n",
       "3                          0             0  ...              0    0       0   \n",
       "4                          0             0  ...              0    0       0   \n",
       "\n",
       "   Simulation  Software Training  Sports  Strategy  Utilities  \\\n",
       "0           0                  0       0         0          0   \n",
       "1           0                  0       0         0          0   \n",
       "2           0                  0       0         0          0   \n",
       "3           0                  0       0         0          0   \n",
       "4           0                  0       0         0          0   \n",
       "\n",
       "   Video Production  Web Publishing  \n",
       "0                 0               0  \n",
       "1                 0               0  \n",
       "2                 0               0  \n",
       "3                 0               0  \n",
       "4                 0               0  \n",
       "\n",
       "[5 rows x 24 columns]"
      ]
     },
     "execution_count": 8,
     "metadata": {},
     "output_type": "execute_result"
    }
   ],
   "source": [
    "# Unimos el dataframe anterior con los dummies de géneros:\n",
    "df_playtimegenre = pd.merge(df_sum_playtime, games_df[['item_id', 'Action',\n",
    "       'Adventure', 'Animation &amp; Modeling', 'Audio Production', 'Casual',\n",
    "       'Design &amp; Illustration', 'Early Access', 'Education',\n",
    "       'Free to Play', 'Indie', 'Massively Multiplayer', 'Photo Editing',\n",
    "       'RPG', 'Racing', 'Simulation', 'Software Training', 'Sports',\n",
    "       'Strategy', 'Utilities', 'Video Production', 'Web Publishing']], on=\"item_id\")\n",
    "\n",
    "df_playtimegenre.head()"
   ]
  },
  {
   "cell_type": "code",
   "execution_count": 9,
   "metadata": {},
   "outputs": [
    {
     "name": "stdout",
     "output_type": "stream",
     "text": [
      "     release_year                  genre  playtime\n",
      "0            1990                 Action      2935\n",
      "1            1990              Adventure        52\n",
      "2            1992              Adventure         0\n",
      "3            1993               Strategy        33\n",
      "4            1994                 Action      1649\n",
      "..            ...                    ...       ...\n",
      "186          2017  Massively multiplayer    291231\n",
      "187          2017                    Rpg    292453\n",
      "188          2017             Simulation    226570\n",
      "189          2017                 Sports        12\n",
      "190          2017               Strategy      1222\n",
      "\n",
      "[191 rows x 3 columns]\n"
     ]
    }
   ],
   "source": [
    "# Utilizamos melt para convertir el DataFrame de ancho a largo:\n",
    "df_melted = pd.melt(df_playtimegenre, id_vars=[\"item_id\", \"release_year\", \"playtime\"], \n",
    "                    var_name=\"genre\", value_name=\"has_genre\")\n",
    "\n",
    "# Filtramos las filas donde el género está presente (has_genre == 1):\n",
    "df_filtered = df_melted[df_melted[\"has_genre\"] == 1]\n",
    "\n",
    "# Agrupamos por \"release_year\" y \"genre\" y sumamos las horas jugadas:\n",
    "df_playtimegenre_final = df_filtered.groupby([\"release_year\", \"genre\"], as_index=False)[\"playtime\"].sum()\n",
    "\n",
    "# Capitalizamos el nombre del género:\n",
    "df_playtimegenre_final[\"genre\"] = df_playtimegenre_final[\"genre\"].str.replace('&amp;', '&').apply(str.capitalize)\n",
    "\n",
    "print(df_playtimegenre_final)"
   ]
  },
  {
   "cell_type": "code",
   "execution_count": 10,
   "metadata": {},
   "outputs": [],
   "source": [
    "# Añadimos a la lista aquellos géneros que no poseen horas jugadas:\n",
    "\n",
    "# Revisamos todos los géneros existentes:\n",
    "todos_los_generos_nocap = ['Action',\n",
    "       'Adventure', 'Animation & Modeling', 'Audio Production', 'Casual',\n",
    "       'Design & Illustration', 'Early Access', 'Education',\n",
    "       'Free to Play', 'Indie', 'Massively Multiplayer', 'Photo Editing',\n",
    "       'RPG', 'Racing', 'Simulation', 'Software Training', 'Sports',\n",
    "       'Strategy', 'Utilities', 'Video Production', 'Web Publishing']\n",
    "todos_los_generos_cap = []\n",
    "for i in todos_los_generos_nocap: # Capitalizamos los géneros\n",
    "       todos_los_generos_cap.append(i.capitalize())\n",
    "\n",
    "# Si el género no se encuentra en el dataframe, añadimos un registro:\n",
    "for genre in todos_los_generos_cap:\n",
    "       if genre not in df_playtimegenre_final[\"genre\"].tolist():\n",
    "              df_playtimegenre_final.loc[len(df_playtimegenre_final)] = {\"release_year\": None, \"genre\": genre, \"playtime\": 0}"
   ]
  },
  {
   "cell_type": "code",
   "execution_count": 11,
   "metadata": {},
   "outputs": [
    {
     "name": "stdout",
     "output_type": "stream",
     "text": [
      "    release_year                  genre  playtime\n",
      "0           1990                 Action      2935\n",
      "1           1990              Adventure        52\n",
      "2           1992              Adventure         0\n",
      "3           1993               Strategy        33\n",
      "4           1994                 Action      1649\n",
      "..           ...                    ...       ...\n",
      "192         None  Design & illustration         0\n",
      "193         None              Education         0\n",
      "194         None          Photo editing         0\n",
      "195         None      Software training         0\n",
      "196         None         Web publishing         0\n",
      "\n",
      "[197 rows x 3 columns]\n"
     ]
    }
   ],
   "source": [
    "print(df_playtimegenre_final)"
   ]
  },
  {
   "cell_type": "markdown",
   "metadata": {},
   "source": [
    "Desarrollamos la función:"
   ]
  },
  {
   "cell_type": "code",
   "execution_count": 12,
   "metadata": {},
   "outputs": [],
   "source": [
    "# Creamos la función PlayTimeGenre:\n",
    "def PlayTimeGenre(genero):\n",
    "\n",
    "    # Verificamos si la variable introducida es una cadena de texto:\n",
    "    if type(genero) != str: return f\"El género '{genero}' no existe.\"\n",
    "    else:\n",
    "\n",
    "        # Capitalizamos la cadena de texto:\n",
    "        genero = genero.strip().capitalize()\n",
    "    \n",
    "        # Comprobamos si el género existe en el DataFrame\n",
    "        if genero not in df_playtimegenre_final[\"genre\"].tolist():\n",
    "            return f\"El género '{genero}' no existe.\"\n",
    "        \n",
    "        # # Filtramos las filas para el género específico:\n",
    "        df_genero = df_playtimegenre_final[df_playtimegenre_final[\"genre\"] == genero]\n",
    "\n",
    "        # En caso de que el género introducido no tenga horas de juego:\n",
    "        if (df_genero[\"playtime\"] == 0).any():\n",
    "            return f\"El género '{genero}' no posee horas jugadas.\"\n",
    "        \n",
    "        # En caso de que el género introducido si tenga horas de juego:\n",
    "        else:\n",
    "\n",
    "            # Hallamos el índice del registro con mayor cantidad de horas de juego:\n",
    "            indice_max_playtime = df_genero[\"playtime\"].idxmax()\n",
    "            \n",
    "            # Tomamos el año de dicho registro:\n",
    "            año_max_playtime = df_genero.loc[indice_max_playtime][\"release_year\"]\n",
    "\n",
    "            # Devolvemos la respuesta final:\n",
    "            return {f\"Año de lanzamiento con más horas jugadas para Género {genero}\" : año_max_playtime}"
   ]
  },
  {
   "cell_type": "code",
   "execution_count": 13,
   "metadata": {},
   "outputs": [
    {
     "name": "stdout",
     "output_type": "stream",
     "text": [
      "{'Año de lanzamiento con más horas jugadas para Género Simulation': 2006}\n",
      "{'Año de lanzamiento con más horas jugadas para Género Action': 2004}\n",
      "El género 'Acción' no existe.\n",
      "El género '123' no existe.\n",
      "{'Año de lanzamiento con más horas jugadas para Género Rpg': 2011}\n",
      "El género 'Photo editing' no posee horas jugadas.\n"
     ]
    }
   ],
   "source": [
    "# Probamos la función\n",
    "print(PlayTimeGenre(\"Simulation  \"))\n",
    "print(PlayTimeGenre(\"acTion\"))\n",
    "print(PlayTimeGenre(\"Acción\"))\n",
    "print(PlayTimeGenre(123))\n",
    "print(PlayTimeGenre(\"Rpg\"))\n",
    "print(PlayTimeGenre(\"Photo editing\"))"
   ]
  },
  {
   "cell_type": "markdown",
   "metadata": {},
   "source": [
    "Guardamos el DataFrame utilizado:"
   ]
  },
  {
   "cell_type": "code",
   "execution_count": 14,
   "metadata": {},
   "outputs": [],
   "source": [
    "# Guardamos el dataframe \"df_playtimegenre_final\":\n",
    "df_playtimegenre_final.to_csv(r\"..\\Archivos Producidos\\Data para Endpoints\\df_playtimegenre_final.csv\", index=False)"
   ]
  }
 ],
 "metadata": {
  "kernelspec": {
   "display_name": "Python 3",
   "language": "python",
   "name": "python3"
  },
  "language_info": {
   "codemirror_mode": {
    "name": "ipython",
    "version": 3
   },
   "file_extension": ".py",
   "mimetype": "text/x-python",
   "name": "python",
   "nbconvert_exporter": "python",
   "pygments_lexer": "ipython3",
   "version": "3.11.4"
  }
 },
 "nbformat": 4,
 "nbformat_minor": 2
}
