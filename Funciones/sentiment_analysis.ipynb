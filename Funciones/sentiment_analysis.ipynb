{
 "cells": [
  {
   "cell_type": "code",
   "execution_count": 1,
   "metadata": {},
   "outputs": [],
   "source": [
    "import pandas as pd"
   ]
  },
  {
   "cell_type": "markdown",
   "metadata": {},
   "source": [
    "<h1>sentiment_analysis</h1>"
   ]
  },
  {
   "cell_type": "markdown",
   "metadata": {},
   "source": [
    "def sentiment_analysis( empresa desarrolladora : str ): Según la empresa desarrolladora, se devuelve un diccionario con el nombre de la desarrolladora como llave y una lista con la cantidad total de registros de reseñas de usuarios que se encuentren categorizados con un análisis de sentimiento como valor.\n",
    "Ejemplo de retorno: {'Valve' : [Negative = 182, Neutral = 120, Positive = 278]}"
   ]
  },
  {
   "cell_type": "code",
   "execution_count": 2,
   "metadata": {},
   "outputs": [],
   "source": [
    "# Cargamos los archivos CSV a utilizar:\n",
    "games_df = pd.read_csv(r\"..\\Archivos Producidos\\games.csv\")\n",
    "reviews_df = pd.read_csv(r\"..\\Archivos Producidos\\reviews.csv\")\n",
    "\n",
    "# Convertimos algunos tipos de columna que no se cargaron correctamente:\n",
    "reviews_df[\"item_id\"] = reviews_df[\"item_id\"].astype(\"Int64\")\n",
    "reviews_df[\"year\"] = reviews_df[\"year\"].astype(\"Int64\")"
   ]
  },
  {
   "cell_type": "code",
   "execution_count": 3,
   "metadata": {},
   "outputs": [
    {
     "data": {
      "text/plain": [
       "app_name                     object\n",
       "release_year                  int64\n",
       "item_id                       int64\n",
       "developer                    object\n",
       "Action                        int64\n",
       "Adventure                     int64\n",
       "Animation &amp; Modeling      int64\n",
       "Audio Production              int64\n",
       "Casual                        int64\n",
       "Design &amp; Illustration     int64\n",
       "Early Access                  int64\n",
       "Education                     int64\n",
       "Free to Play                  int64\n",
       "Indie                         int64\n",
       "Massively Multiplayer         int64\n",
       "Photo Editing                 int64\n",
       "RPG                           int64\n",
       "Racing                        int64\n",
       "Simulation                    int64\n",
       "Software Training             int64\n",
       "Sports                        int64\n",
       "Strategy                      int64\n",
       "Utilities                     int64\n",
       "Video Production              int64\n",
       "Web Publishing                int64\n",
       "dtype: object"
      ]
     },
     "execution_count": 3,
     "metadata": {},
     "output_type": "execute_result"
    }
   ],
   "source": [
    "games_df.dtypes"
   ]
  },
  {
   "cell_type": "code",
   "execution_count": 4,
   "metadata": {},
   "outputs": [
    {
     "data": {
      "text/plain": [
       "user_id               object\n",
       "item_id                Int64\n",
       "recommend               bool\n",
       "review                object\n",
       "year                   Int64\n",
       "sentiment_analysis     int64\n",
       "dtype: object"
      ]
     },
     "execution_count": 4,
     "metadata": {},
     "output_type": "execute_result"
    }
   ],
   "source": [
    "reviews_df.dtypes"
   ]
  },
  {
   "cell_type": "markdown",
   "metadata": {},
   "source": [
    "Ya cargados los archivos, comenzamos con las transformaciones:"
   ]
  },
  {
   "cell_type": "code",
   "execution_count": 5,
   "metadata": {},
   "outputs": [
    {
     "data": {
      "text/html": [
       "<div>\n",
       "<style scoped>\n",
       "    .dataframe tbody tr th:only-of-type {\n",
       "        vertical-align: middle;\n",
       "    }\n",
       "\n",
       "    .dataframe tbody tr th {\n",
       "        vertical-align: top;\n",
       "    }\n",
       "\n",
       "    .dataframe thead th {\n",
       "        text-align: right;\n",
       "    }\n",
       "</style>\n",
       "<table border=\"1\" class=\"dataframe\">\n",
       "  <thead>\n",
       "    <tr style=\"text-align: right;\">\n",
       "      <th></th>\n",
       "      <th>developer</th>\n",
       "      <th>item_id</th>\n",
       "      <th>sentiment_analysis</th>\n",
       "    </tr>\n",
       "  </thead>\n",
       "  <tbody>\n",
       "    <tr>\n",
       "      <th>0</th>\n",
       "      <td>Stainless games ltd</td>\n",
       "      <td>282010</td>\n",
       "      <td>1</td>\n",
       "    </tr>\n",
       "    <tr>\n",
       "      <th>1</th>\n",
       "      <td>Valve</td>\n",
       "      <td>70</td>\n",
       "      <td>1</td>\n",
       "    </tr>\n",
       "    <tr>\n",
       "      <th>2</th>\n",
       "      <td>Valve</td>\n",
       "      <td>70</td>\n",
       "      <td>1</td>\n",
       "    </tr>\n",
       "    <tr>\n",
       "      <th>3</th>\n",
       "      <td>Valve</td>\n",
       "      <td>70</td>\n",
       "      <td>1</td>\n",
       "    </tr>\n",
       "    <tr>\n",
       "      <th>4</th>\n",
       "      <td>Valve</td>\n",
       "      <td>70</td>\n",
       "      <td>2</td>\n",
       "    </tr>\n",
       "  </tbody>\n",
       "</table>\n",
       "</div>"
      ],
      "text/plain": [
       "             developer  item_id  sentiment_analysis\n",
       "0  Stainless games ltd   282010                   1\n",
       "1                Valve       70                   1\n",
       "2                Valve       70                   1\n",
       "3                Valve       70                   1\n",
       "4                Valve       70                   2"
      ]
     },
     "execution_count": 5,
     "metadata": {},
     "output_type": "execute_result"
    }
   ],
   "source": [
    "# Unimos las columnas que nos serán de utilidad:\n",
    "df_sentiment_analysis = pd.merge(games_df[[\"developer\", \"item_id\"]], reviews_df[[\"item_id\", \"sentiment_analysis\"]], on=\"item_id\")\n",
    "df_sentiment_analysis.head()"
   ]
  },
  {
   "cell_type": "code",
   "execution_count": 6,
   "metadata": {},
   "outputs": [],
   "source": [
    "# Capitalizamos las empresas desarrolladoras:\n",
    "df_sentiment_analysis[\"developer\"] = df_sentiment_analysis[\"developer\"].apply(lambda x: x.strip().title())"
   ]
  },
  {
   "cell_type": "code",
   "execution_count": 7,
   "metadata": {},
   "outputs": [
    {
     "data": {
      "text/html": [
       "<div>\n",
       "<style scoped>\n",
       "    .dataframe tbody tr th:only-of-type {\n",
       "        vertical-align: middle;\n",
       "    }\n",
       "\n",
       "    .dataframe tbody tr th {\n",
       "        vertical-align: top;\n",
       "    }\n",
       "\n",
       "    .dataframe thead th {\n",
       "        text-align: right;\n",
       "    }\n",
       "</style>\n",
       "<table border=\"1\" class=\"dataframe\">\n",
       "  <thead>\n",
       "    <tr style=\"text-align: right;\">\n",
       "      <th></th>\n",
       "      <th>developer</th>\n",
       "      <th>sentiment_analysis</th>\n",
       "    </tr>\n",
       "  </thead>\n",
       "  <tbody>\n",
       "    <tr>\n",
       "      <th>0</th>\n",
       "      <td>Stainless Games Ltd</td>\n",
       "      <td>1</td>\n",
       "    </tr>\n",
       "    <tr>\n",
       "      <th>1</th>\n",
       "      <td>Valve</td>\n",
       "      <td>1</td>\n",
       "    </tr>\n",
       "    <tr>\n",
       "      <th>2</th>\n",
       "      <td>Valve</td>\n",
       "      <td>1</td>\n",
       "    </tr>\n",
       "    <tr>\n",
       "      <th>3</th>\n",
       "      <td>Valve</td>\n",
       "      <td>1</td>\n",
       "    </tr>\n",
       "    <tr>\n",
       "      <th>4</th>\n",
       "      <td>Valve</td>\n",
       "      <td>2</td>\n",
       "    </tr>\n",
       "  </tbody>\n",
       "</table>\n",
       "</div>"
      ],
      "text/plain": [
       "             developer  sentiment_analysis\n",
       "0  Stainless Games Ltd                   1\n",
       "1                Valve                   1\n",
       "2                Valve                   1\n",
       "3                Valve                   1\n",
       "4                Valve                   2"
      ]
     },
     "execution_count": 7,
     "metadata": {},
     "output_type": "execute_result"
    }
   ],
   "source": [
    "# Eliminamos la columna \"item_id\" la cual ya no utilizaremos:\n",
    "df_sentiment_analysis.drop(columns=[\"item_id\"], inplace=True)\n",
    "df_sentiment_analysis.head()"
   ]
  },
  {
   "cell_type": "markdown",
   "metadata": {},
   "source": [
    "Desarrollamos la función:"
   ]
  },
  {
   "cell_type": "code",
   "execution_count": 8,
   "metadata": {},
   "outputs": [],
   "source": [
    "# Creamos la función sentiment_analysis:\n",
    "def sentiment_analysis(developer):\n",
    "\n",
    "    # Verificamos si la variable introducida es una cadena de texto:\n",
    "    if type(developer) != str: return f\"La empresa '{developer}' no existe.\"\n",
    "    else:\n",
    "\n",
    "        # Capitalizamos la cadena de texto:\n",
    "        developer = developer.strip().title()\n",
    "    \n",
    "        # Comprobamos si la empresa desarrolladora existe en el DataFrame:\n",
    "        if developer not in df_sentiment_analysis[\"developer\"].tolist():\n",
    "            return f\"La empresa '{developer}' no existe o no tiene reseñas.\"\n",
    "\n",
    "        # En caso de que la empresa introducida exista en el DataFrame:\n",
    "        else:\n",
    "\n",
    "            # Filtramos por empresa desarrolladora:\n",
    "            df_developer = df_sentiment_analysis[df_sentiment_analysis[\"developer\"] == developer]\n",
    "\n",
    "            # Contamos los registros para cada caso:\n",
    "            positive = len(df_developer[df_developer[\"sentiment_analysis\"] == 2]) # Sentimientos positivos\n",
    "            neutral = len(df_developer[df_developer[\"sentiment_analysis\"] == 1]) # Sentimientos neutrales\n",
    "            negative = len(df_developer[df_developer[\"sentiment_analysis\"] == 0]) # Sentimientos negativos\n",
    "\n",
    "            # Devolvemos la respuesta final:\n",
    "            return {developer: [f\"Negative = {negative}, Neutral = {neutral}, Positive = {positive}\"]}"
   ]
  },
  {
   "cell_type": "code",
   "execution_count": 9,
   "metadata": {},
   "outputs": [
    {
     "name": "stdout",
     "output_type": "stream",
     "text": [
      "{'Stainless Games Ltd': ['Negative = 0, Neutral = 1, Positive = 2']}\n",
      "La empresa 'Action' no existe o no tiene reseñas.\n",
      "{'Valve': ['Negative = 1056, Neutral = 3981, Positive = 4520']}\n",
      "La empresa '123' no existe.\n",
      "{'Epic Games, Inc.': ['Negative = 2, Neutral = 1, Positive = 8']}\n",
      "{'Outerlight Ltd.': ['Negative = 4, Neutral = 17, Positive = 9']}\n"
     ]
    }
   ],
   "source": [
    "\n",
    "# Probamos la función\n",
    "print(sentiment_analysis(\"StainLess gameS ltd  \"))\n",
    "print(sentiment_analysis(\"acTion\"))\n",
    "print(sentiment_analysis(\"Valve\"))\n",
    "print(sentiment_analysis(123))\n",
    "print(sentiment_analysis(\"Epic Games, INC.\"))\n",
    "print(sentiment_analysis(\" Outerlight LTD.    \"))"
   ]
  },
  {
   "cell_type": "markdown",
   "metadata": {},
   "source": [
    "Guardamos el DataFrame utilizado:"
   ]
  },
  {
   "cell_type": "code",
   "execution_count": 10,
   "metadata": {},
   "outputs": [],
   "source": [
    "# Guardamos el dataframe \"df_sentiment_analysis\":\n",
    "df_sentiment_analysis.to_csv(r\"..\\Archivos Producidos\\Data para Endpoints\\df_sentiment_analysis.csv\", index=False)"
   ]
  }
 ],
 "metadata": {
  "kernelspec": {
   "display_name": "Python 3",
   "language": "python",
   "name": "python3"
  },
  "language_info": {
   "codemirror_mode": {
    "name": "ipython",
    "version": 3
   },
   "file_extension": ".py",
   "mimetype": "text/x-python",
   "name": "python",
   "nbconvert_exporter": "python",
   "pygments_lexer": "ipython3",
   "version": "3.11.4"
  }
 },
 "nbformat": 4,
 "nbformat_minor": 2
}
